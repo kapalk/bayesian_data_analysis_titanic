{
 "cells": [
  {
   "cell_type": "code",
   "execution_count": null,
   "metadata": {},
   "outputs": [],
   "source": [
    "import os\n",
    "import sys\n",
    "import pystan\n",
    "\n",
    "import numpy as np\n",
    "import pandas as pd"
   ]
  },
  {
   "cell_type": "code",
   "execution_count": null,
   "metadata": {},
   "outputs": [],
   "source": [
    "## Set up constants and file paths\n",
    "\n",
    "utility_path = 'utilities'\n",
    "if not utility_path in sys.path:\n",
    "    sys.path.insert(0, utility_path)\n",
    "\n",
    "import my_utilities\n",
    "import psis\n",
    "import stan_utility"
   ]
  },
  {
   "cell_type": "code",
   "execution_count": null,
   "metadata": {},
   "outputs": [],
   "source": [
    "# data\n",
    "data = pd.read_csv(\"../data/titanic.txt\", index_col=\"name\").drop([\"row.names\", \n",
    "                                                                  \"home.dest\", \n",
    "                                                                  \"room\", \n",
    "                                                                  \"ticket\", \n",
    "                                                                  \"boat\"], axis=1)\n",
    "data.head()"
   ]
  },
  {
   "cell_type": "code",
   "execution_count": null,
   "metadata": {},
   "outputs": [],
   "source": [
    "# binarize categorical variables and drop NaNs\n",
    "data_binarized = pd.get_dummies(titanic_data).dropna(axis=0, how=\"any\")\n",
    "data_binarized.head()"
   ]
  },
  {
   "cell_type": "code",
   "execution_count": null,
   "metadata": {},
   "outputs": [],
   "source": [
    "# create arrays for a stan model\n",
    "y = np.array(data_binarized[\"survived\"])\n",
    "X = np.array(data_binarized[[\"age\", \n",
    "                             \"pclass_1st\", \n",
    "                             \"pclass_2nd\", \n",
    "                             \"pclass_3rd\", \n",
    "                             \"embarked_Cherbourg\", \n",
    "                             \"embarked_Queenstown\", \n",
    "                             \"embarked_Southampton\", \n",
    "                             \"sex_female\"]], dtype=np.dtype(float))"
   ]
  },
  {
   "cell_type": "code",
   "execution_count": null,
   "metadata": {},
   "outputs": [],
   "source": [
    "model = stan_utility.compile_model('logistic_regression.stan')"
   ]
  },
  {
   "cell_type": "code",
   "execution_count": null,
   "metadata": {},
   "outputs": [],
   "source": [
    "model_data = dict(n=X.shape[0], d=X.shape[1], X=X, y=y)\n",
    "fit = model.sampling(data=model_data, seed=1, control=dict(max_treedepth=20))\n",
    "samples = fit.extract(permuted=True)"
   ]
  },
  {
   "cell_type": "markdown",
   "metadata": {},
   "source": [
    "# Appendix"
   ]
  },
  {
   "cell_type": "markdown",
   "metadata": {},
   "source": [
    "## my_utilities.py"
   ]
  },
  {
   "cell_type": "raw",
   "metadata": {},
   "source": [
    "\\lstinputlisting{utilities/my_utilities.py}"
   ]
  },
  {
   "cell_type": "code",
   "execution_count": null,
   "metadata": {},
   "outputs": [],
   "source": []
  }
 ],
 "metadata": {
  "kernelspec": {
   "display_name": "venv",
   "language": "python",
   "name": "venv"
  },
  "language_info": {
   "codemirror_mode": {
    "name": "ipython",
    "version": 2
   },
   "file_extension": ".py",
   "mimetype": "text/x-python",
   "name": "python",
   "nbconvert_exporter": "python",
   "pygments_lexer": "ipython2",
   "version": "2.7.14"
  }
 },
 "nbformat": 4,
 "nbformat_minor": 2
}
