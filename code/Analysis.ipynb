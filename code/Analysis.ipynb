{
 "cells": [
  {
   "cell_type": "code",
   "execution_count": null,
   "metadata": {},
   "outputs": [],
   "source": [
    "import os\n",
    "import sys\n",
    "import pystan\n",
    "import numpy as np\n",
    "import pandas as pd\n",
    "from sklearn import preprocessing\n",
    "from sklearn.model_selection import train_test_split\n",
    "from matplotlib import pyplot as plt\n",
    "plt.style.use(\"ggplot\")"
   ]
  },
  {
   "cell_type": "code",
   "execution_count": null,
   "metadata": {},
   "outputs": [],
   "source": [
    "## Set up constants and file paths\n",
    "\n",
    "utility_path = 'utilities'\n",
    "if not utility_path in sys.path:\n",
    "    sys.path.insert(0, utility_path)\n",
    "\n",
    "import my_utilities\n",
    "import psis\n",
    "import stan_utility"
   ]
  },
  {
   "cell_type": "code",
   "execution_count": null,
   "metadata": {},
   "outputs": [],
   "source": [
    "# data\n",
    "data = pd.read_csv(\"../data/titanic.txt\", index_col=\"name\").drop([\"row.names\", \n",
    "                                                                  \"home.dest\", \n",
    "                                                                  \"room\", \n",
    "                                                                  \"ticket\", \n",
    "                                                                  \"boat\"], axis=1)\n",
    "data.head()"
   ]
  },
  {
   "cell_type": "code",
   "execution_count": null,
   "metadata": {},
   "outputs": [],
   "source": [
    "# binarize categorical variables, drop NaNs and normalize and scale \"age\" between 0 and 1\n",
    "data_binarized = pd.get_dummies(data).dropna(axis=0, how=\"any\")\n",
    "data_binarized[\"age\"] = preprocessing.minmax_scale(preprocessing.scale(np.array(data_binarized[\"age\"])))\n",
    "data_binarized.head()"
   ]
  },
  {
   "cell_type": "code",
   "execution_count": null,
   "metadata": {},
   "outputs": [],
   "source": [
    "# create arrays for a stan model\n",
    "y = np.array(data_binarized[\"survived\"])\n",
    "X = np.array(data_binarized[[\"age\", \n",
    "                             \"pclass_1st\", \n",
    "                             \"pclass_2nd\", \n",
    "                             \"pclass_3rd\", \n",
    "                             \"embarked_Cherbourg\", \n",
    "                             \"embarked_Queenstown\", \n",
    "                             \"embarked_Southampton\", \n",
    "                             \"sex_female\"]], dtype=np.dtype(float))\n",
    "X_train, X_test, y_train, y_test = train_test_split(X, y, test_size=0.33, random_state=42)\n",
    "print \"{0} samples in training set \\n{1} samples in test set\".format(y_train.size, y_test.size)"
   ]
  },
  {
   "cell_type": "markdown",
   "metadata": {},
   "source": [
    "## Pooled"
   ]
  },
  {
   "cell_type": "code",
   "execution_count": null,
   "metadata": {},
   "outputs": [],
   "source": [
    "model = stan_utility.compile_model('logistic_regression_pooled.stan')"
   ]
  },
  {
   "cell_type": "code",
   "execution_count": null,
   "metadata": {},
   "outputs": [],
   "source": [
    "model_data = dict(n=X_train.shape[0],\n",
    "                  d=X_train.shape[1], \n",
    "                  X=X_train, \n",
    "                  y=y_train, \n",
    "                  p_beta_df=4, \n",
    "                  p_beta_scale=1)\n",
    "fit = model.sampling(data=model_data, seed=1, control=dict(max_treedepth=15))\n",
    "samples = fit.extract(permuted=True)\n",
    "print fit"
   ]
  },
  {
   "cell_type": "code",
   "execution_count": null,
   "metadata": {},
   "outputs": [],
   "source": [
    "# plot betas\n",
    "n, m = 2,4 \n",
    "fig, axs = plt.subplots(n, m, figsize=(17, 10))\n",
    "axs = axs.ravel()\n",
    "for i in range(n*m):\n",
    "    axs[i].hist(samples[\"beta\"][:,i], bins=100)\n",
    "    axs[i].set_title(\"beta {0}\".format(i))\n"
   ]
  },
  {
   "cell_type": "code",
   "execution_count": null,
   "metadata": {},
   "outputs": [],
   "source": [
    "# LOO CV\n",
    "loo, loos, ks = psis.psisloo(samples[\"log_lik\"])\n",
    "datapoints = np.arange(1, X_train.shape[0] + 1)\n",
    "plt.plot(datapoints, ks, 'o')\n",
    "plt.plot(datapoints, [0.7] * X_train.shape[0])\n",
    "plt.title(\"PSIS-LOO({0}) k values\".format(round(loo, 2)))\n",
    "plt.show()"
   ]
  },
  {
   "cell_type": "code",
   "execution_count": null,
   "metadata": {},
   "outputs": [],
   "source": [
    "def logistic(x, beta, alpha):\n",
    "    return (1+np.exp(-(alpha + np.dot(x, beta))))**(-1)\n",
    "\n",
    "def check_accuracy(data, target, beta, alpha):\n",
    "    ans_list = []\n",
    "    for i in range(len(data)):\n",
    "        res = logistic(data[i], beta, alpha)\n",
    "        ans = 1 if res > 0.5 else 0\n",
    "        ans_list.append(ans == target[i])\n",
    "\n",
    "    return np.mean(ans_list)\n",
    "\n",
    "mean_list = fit.summary()[\"summary\"]\n",
    "beta = mean_list[1:9, 0]\n",
    "alpha = mean_list[0, 0]\n",
    "\n",
    "\n",
    "print 'Accuracy train: ', check_accuracy(X_train, y_train, beta, alpha)\n",
    "print 'Accuracy test: ', check_accuracy(X_test, y_test, beta, alpha)"
   ]
  },
  {
   "cell_type": "markdown",
   "metadata": {},
   "source": [
    "# Appendix"
   ]
  },
  {
   "cell_type": "markdown",
   "metadata": {},
   "source": [
    "## my_utilities.py"
   ]
  },
  {
   "cell_type": "raw",
   "metadata": {},
   "source": [
    "\\lstinputlisting{utilities/my_utilities.py}"
   ]
  },
  {
   "cell_type": "code",
   "execution_count": null,
   "metadata": {},
   "outputs": [],
   "source": []
  }
 ],
 "metadata": {
  "kernelspec": {
   "display_name": "venv",
   "language": "python",
   "name": "venv"
  },
  "language_info": {
   "codemirror_mode": {
    "name": "ipython",
    "version": 2
   },
   "file_extension": ".py",
   "mimetype": "text/x-python",
   "name": "python",
   "nbconvert_exporter": "python",
   "pygments_lexer": "ipython2",
   "version": "2.7.14"
  }
 },
 "nbformat": 4,
 "nbformat_minor": 2
}
