{
 "cells": [
  {
   "cell_type": "code",
   "execution_count": 1,
   "metadata": {},
   "outputs": [],
   "source": [
    "import os\n",
    "import sys\n",
    "import pystan\n",
    "import numpy as np\n",
    "import pandas as pd\n",
    "from sklearn import preprocessing\n",
    "from sklearn.model_selection import train_test_split\n",
    "from matplotlib import pyplot as plt\n",
    "from utilities import my_utilities, psis, stan_utility\n",
    "plt.style.use(\"ggplot\")"
   ]
  },
  {
   "cell_type": "code",
   "execution_count": 2,
   "metadata": {},
   "outputs": [
    {
     "data": {
      "text/html": [
       "<div>\n",
       "<style scoped>\n",
       "    .dataframe tbody tr th:only-of-type {\n",
       "        vertical-align: middle;\n",
       "    }\n",
       "\n",
       "    .dataframe tbody tr th {\n",
       "        vertical-align: top;\n",
       "    }\n",
       "\n",
       "    .dataframe thead th {\n",
       "        text-align: right;\n",
       "    }\n",
       "</style>\n",
       "<table border=\"1\" class=\"dataframe\">\n",
       "  <thead>\n",
       "    <tr style=\"text-align: right;\">\n",
       "      <th></th>\n",
       "      <th>pclass</th>\n",
       "      <th>survived</th>\n",
       "      <th>age</th>\n",
       "      <th>embarked</th>\n",
       "      <th>sex</th>\n",
       "    </tr>\n",
       "    <tr>\n",
       "      <th>name</th>\n",
       "      <th></th>\n",
       "      <th></th>\n",
       "      <th></th>\n",
       "      <th></th>\n",
       "      <th></th>\n",
       "    </tr>\n",
       "  </thead>\n",
       "  <tbody>\n",
       "    <tr>\n",
       "      <th>Allen, Miss Elisabeth Walton</th>\n",
       "      <td>1st</td>\n",
       "      <td>1</td>\n",
       "      <td>29.0000</td>\n",
       "      <td>Southampton</td>\n",
       "      <td>female</td>\n",
       "    </tr>\n",
       "    <tr>\n",
       "      <th>Allison, Miss Helen Loraine</th>\n",
       "      <td>1st</td>\n",
       "      <td>0</td>\n",
       "      <td>2.0000</td>\n",
       "      <td>Southampton</td>\n",
       "      <td>female</td>\n",
       "    </tr>\n",
       "    <tr>\n",
       "      <th>Allison, Mr Hudson Joshua Creighton</th>\n",
       "      <td>1st</td>\n",
       "      <td>0</td>\n",
       "      <td>30.0000</td>\n",
       "      <td>Southampton</td>\n",
       "      <td>male</td>\n",
       "    </tr>\n",
       "    <tr>\n",
       "      <th>Allison, Mrs Hudson J.C. (Bessie Waldo Daniels)</th>\n",
       "      <td>1st</td>\n",
       "      <td>0</td>\n",
       "      <td>25.0000</td>\n",
       "      <td>Southampton</td>\n",
       "      <td>female</td>\n",
       "    </tr>\n",
       "    <tr>\n",
       "      <th>Allison, Master Hudson Trevor</th>\n",
       "      <td>1st</td>\n",
       "      <td>1</td>\n",
       "      <td>0.9167</td>\n",
       "      <td>Southampton</td>\n",
       "      <td>male</td>\n",
       "    </tr>\n",
       "  </tbody>\n",
       "</table>\n",
       "</div>"
      ],
      "text/plain": [
       "                                                pclass  survived      age  \\\n",
       "name                                                                        \n",
       "Allen, Miss Elisabeth Walton                       1st         1  29.0000   \n",
       "Allison, Miss Helen Loraine                        1st         0   2.0000   \n",
       "Allison, Mr Hudson Joshua Creighton                1st         0  30.0000   \n",
       "Allison, Mrs Hudson J.C. (Bessie Waldo Daniels)    1st         0  25.0000   \n",
       "Allison, Master Hudson Trevor                      1st         1   0.9167   \n",
       "\n",
       "                                                    embarked     sex  \n",
       "name                                                                  \n",
       "Allen, Miss Elisabeth Walton                     Southampton  female  \n",
       "Allison, Miss Helen Loraine                      Southampton  female  \n",
       "Allison, Mr Hudson Joshua Creighton              Southampton    male  \n",
       "Allison, Mrs Hudson J.C. (Bessie Waldo Daniels)  Southampton  female  \n",
       "Allison, Master Hudson Trevor                    Southampton    male  "
      ]
     },
     "execution_count": 2,
     "metadata": {},
     "output_type": "execute_result"
    }
   ],
   "source": [
    "# data\n",
    "data = pd.read_csv(\"../data/titanic.txt\", index_col=\"name\").drop([\"row.names\", \n",
    "                                                                  \"home.dest\", \n",
    "                                                                  \"room\", \n",
    "                                                                  \"ticket\", \n",
    "                                                                  \"boat\"], axis=1)\n",
    "data.head()"
   ]
  },
  {
   "cell_type": "code",
   "execution_count": 3,
   "metadata": {},
   "outputs": [
    {
     "data": {
      "text/html": [
       "<div>\n",
       "<style scoped>\n",
       "    .dataframe tbody tr th:only-of-type {\n",
       "        vertical-align: middle;\n",
       "    }\n",
       "\n",
       "    .dataframe tbody tr th {\n",
       "        vertical-align: top;\n",
       "    }\n",
       "\n",
       "    .dataframe thead th {\n",
       "        text-align: right;\n",
       "    }\n",
       "</style>\n",
       "<table border=\"1\" class=\"dataframe\">\n",
       "  <thead>\n",
       "    <tr style=\"text-align: right;\">\n",
       "      <th></th>\n",
       "      <th>survived</th>\n",
       "      <th>age</th>\n",
       "      <th>pclass_1st</th>\n",
       "      <th>pclass_2nd</th>\n",
       "      <th>pclass_3rd</th>\n",
       "      <th>embarked_Cherbourg</th>\n",
       "      <th>embarked_Queenstown</th>\n",
       "      <th>embarked_Southampton</th>\n",
       "      <th>sex_female</th>\n",
       "      <th>sex_male</th>\n",
       "    </tr>\n",
       "    <tr>\n",
       "      <th>name</th>\n",
       "      <th></th>\n",
       "      <th></th>\n",
       "      <th></th>\n",
       "      <th></th>\n",
       "      <th></th>\n",
       "      <th></th>\n",
       "      <th></th>\n",
       "      <th></th>\n",
       "      <th></th>\n",
       "      <th></th>\n",
       "    </tr>\n",
       "  </thead>\n",
       "  <tbody>\n",
       "    <tr>\n",
       "      <th>Allen, Miss Elisabeth Walton</th>\n",
       "      <td>1</td>\n",
       "      <td>0.407059</td>\n",
       "      <td>1</td>\n",
       "      <td>0</td>\n",
       "      <td>0</td>\n",
       "      <td>0</td>\n",
       "      <td>0</td>\n",
       "      <td>1</td>\n",
       "      <td>1</td>\n",
       "      <td>0</td>\n",
       "    </tr>\n",
       "    <tr>\n",
       "      <th>Allison, Miss Helen Loraine</th>\n",
       "      <td>0</td>\n",
       "      <td>0.025882</td>\n",
       "      <td>1</td>\n",
       "      <td>0</td>\n",
       "      <td>0</td>\n",
       "      <td>0</td>\n",
       "      <td>0</td>\n",
       "      <td>1</td>\n",
       "      <td>1</td>\n",
       "      <td>0</td>\n",
       "    </tr>\n",
       "    <tr>\n",
       "      <th>Allison, Mr Hudson Joshua Creighton</th>\n",
       "      <td>0</td>\n",
       "      <td>0.421176</td>\n",
       "      <td>1</td>\n",
       "      <td>0</td>\n",
       "      <td>0</td>\n",
       "      <td>0</td>\n",
       "      <td>0</td>\n",
       "      <td>1</td>\n",
       "      <td>0</td>\n",
       "      <td>1</td>\n",
       "    </tr>\n",
       "  </tbody>\n",
       "</table>\n",
       "</div>"
      ],
      "text/plain": [
       "                                     survived       age  pclass_1st  \\\n",
       "name                                                                  \n",
       "Allen, Miss Elisabeth Walton                1  0.407059           1   \n",
       "Allison, Miss Helen Loraine                 0  0.025882           1   \n",
       "Allison, Mr Hudson Joshua Creighton         0  0.421176           1   \n",
       "\n",
       "                                     pclass_2nd  pclass_3rd  \\\n",
       "name                                                          \n",
       "Allen, Miss Elisabeth Walton                  0           0   \n",
       "Allison, Miss Helen Loraine                   0           0   \n",
       "Allison, Mr Hudson Joshua Creighton           0           0   \n",
       "\n",
       "                                     embarked_Cherbourg  embarked_Queenstown  \\\n",
       "name                                                                           \n",
       "Allen, Miss Elisabeth Walton                          0                    0   \n",
       "Allison, Miss Helen Loraine                           0                    0   \n",
       "Allison, Mr Hudson Joshua Creighton                   0                    0   \n",
       "\n",
       "                                     embarked_Southampton  sex_female  \\\n",
       "name                                                                    \n",
       "Allen, Miss Elisabeth Walton                            1           1   \n",
       "Allison, Miss Helen Loraine                             1           1   \n",
       "Allison, Mr Hudson Joshua Creighton                     1           0   \n",
       "\n",
       "                                     sex_male  \n",
       "name                                           \n",
       "Allen, Miss Elisabeth Walton                0  \n",
       "Allison, Miss Helen Loraine                 0  \n",
       "Allison, Mr Hudson Joshua Creighton         1  "
      ]
     },
     "execution_count": 3,
     "metadata": {},
     "output_type": "execute_result"
    }
   ],
   "source": [
    "# binarize categorical variables, drop NaNs and normalize and scale \"age\" between 0 and 1\n",
    "data_binarized = pd.get_dummies(data).dropna(axis=0, how=\"any\")\n",
    "data_binarized[\"age\"] = preprocessing.minmax_scale(preprocessing.scale(np.array(data_binarized[\"age\"])))\n",
    "data_binarized.head(n=3)"
   ]
  },
  {
   "cell_type": "code",
   "execution_count": 4,
   "metadata": {},
   "outputs": [
    {
     "name": "stdout",
     "output_type": "stream",
     "text": [
      "424 samples in training set \n",
      "209 samples in test set\n"
     ]
    }
   ],
   "source": [
    "# create arrays for a stan model\n",
    "y = np.array(data_binarized[\"survived\"])\n",
    "X = np.array(data_binarized[[\"age\", \n",
    "                             \"pclass_1st\", \n",
    "                             \"pclass_2nd\", \n",
    "                             \"pclass_3rd\", \n",
    "                             \"embarked_Cherbourg\", \n",
    "                             \"embarked_Queenstown\", \n",
    "                             \"embarked_Southampton\", \n",
    "                             \"sex_female\"]], dtype=np.dtype(float))\n",
    "X_train, X_test, y_train, y_test = train_test_split(X, y, test_size=0.33, random_state=42)\n",
    "print \"{0} samples in training set \\n{1} samples in test set\".format(y_train.size, y_test.size)"
   ]
  },
  {
   "cell_type": "markdown",
   "metadata": {},
   "source": [
    "## Pooled"
   ]
  },
  {
   "cell_type": "code",
   "execution_count": 5,
   "metadata": {},
   "outputs": [
    {
     "name": "stdout",
     "output_type": "stream",
     "text": [
      "Using cached StanModel\n"
     ]
    }
   ],
   "source": [
    "model = stan_utility.compile_model('logistic_regression_pooled.stan')"
   ]
  },
  {
   "cell_type": "code",
   "execution_count": null,
   "metadata": {},
   "outputs": [],
   "source": [
    "model_data = dict(n=X_train.shape[0],\n",
    "                  d=X_train.shape[1], \n",
    "                  X=X_train, \n",
    "                  y=y_train, \n",
    "                  p_beta_df=4, \n",
    "                  p_beta_scale=1)\n",
    "fit = model.sampling(data=model_data, seed=1, control=dict(max_treedepth=15))\n",
    "samples = fit.extract(permuted=True)\n",
    "print fit"
   ]
  },
  {
   "cell_type": "code",
   "execution_count": null,
   "metadata": {},
   "outputs": [],
   "source": [
    "# plot betas\n",
    "n, m = 2,4 \n",
    "fig, axs = plt.subplots(n, m, figsize=(17, 10))\n",
    "axs = axs.ravel()\n",
    "for i in range(n*m):\n",
    "    axs[i].hist(samples[\"beta\"][:,i], bins=100)\n",
    "    axs[i].set_title(\"beta {0}\".format(i))\n"
   ]
  },
  {
   "cell_type": "code",
   "execution_count": null,
   "metadata": {},
   "outputs": [],
   "source": [
    "# LOO CV\n",
    "loo, loos, ks = psis.psisloo(samples[\"log_lik\"])\n",
    "lppd = np.sum(np.log(np.sum(np.exp(samples[\"log_lik\"]), axis=0)/4000))\n",
    "print \"p_eff: {}\".format(int(lppd - loo))\n",
    "\n",
    "datapoints = np.arange(1, X_train.shape[0] + 1)\n",
    "plt.plot(datapoints, ks, 'o')\n",
    "plt.plot(datapoints, [0.7] * X_train.shape[0])\n",
    "plt.title(\"PSIS-LOO({0}) k values\".format(round(loo, 2)))\n",
    "plt.show()"
   ]
  },
  {
   "cell_type": "code",
   "execution_count": null,
   "metadata": {},
   "outputs": [],
   "source": [
    "def logistic(x, beta, alpha):\n",
    "    return (1+np.exp(-(alpha + np.dot(x, beta))))**(-1)\n",
    "\n",
    "def check_accuracy(data, target, beta, alpha):\n",
    "    ans_list = []\n",
    "    for i in range(len(data)):\n",
    "        res = logistic(data[i], beta, alpha)\n",
    "        ans = 1 if res > 0.5 else 0\n",
    "        ans_list.append(ans == target[i])\n",
    "\n",
    "    return np.mean(ans_list)\n",
    "\n",
    "mean_list = fit.summary()[\"summary\"]\n",
    "beta = mean_list[1:9, 0]\n",
    "alpha = mean_list[0, 0]\n",
    "\n",
    "\n",
    "print 'Accuracy train: ', check_accuracy(X_train, y_train, beta, alpha)\n",
    "print 'Accuracy test: ', check_accuracy(X_test, y_test, beta, alpha)"
   ]
  },
  {
   "cell_type": "markdown",
   "metadata": {},
   "source": [
    "# Appendix"
   ]
  },
  {
   "cell_type": "markdown",
   "metadata": {},
   "source": [
    "## my_utilities.py"
   ]
  },
  {
   "cell_type": "raw",
   "metadata": {},
   "source": [
    "\\lstinputlisting{utilities/my_utilities.py}"
   ]
  }
 ],
 "metadata": {
  "kernelspec": {
   "display_name": "venv",
   "language": "python",
   "name": "venv"
  },
  "language_info": {
   "codemirror_mode": {
    "name": "ipython",
    "version": 2
   },
   "file_extension": ".py",
   "mimetype": "text/x-python",
   "name": "python",
   "nbconvert_exporter": "python",
   "pygments_lexer": "ipython2",
   "version": "2.7.14"
  }
 },
 "nbformat": 4,
 "nbformat_minor": 2
}
